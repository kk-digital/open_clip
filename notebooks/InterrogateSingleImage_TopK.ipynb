{
  "nbformat": 4,
  "nbformat_minor": 0,
  "metadata": {
    "colab": {
      "provenance": []
    },
    "kernelspec": {
      "name": "python3",
      "display_name": "Python 3"
    },
    "language_info": {
      "name": "python"
    }
  },
  "cells": [
    {
      "cell_type": "markdown",
      "source": [
        "# Interrogate Notebook\n",
        "> Make sure you put the .txt file in wordlists folder \n"
      ],
      "metadata": {
        "id": "kIlQi8HiMvGV"
      }
    },
    {
      "cell_type": "code",
      "execution_count": 2,
      "metadata": {
        "colab": {
          "base_uri": "https://localhost:8080/"
        },
        "id": "Ln1X4bkkMb0F",
        "outputId": "13c2614c-15a6-433e-ea0f-738ef9f4cd6d"
      },
      "outputs": [
        {
          "output_type": "stream",
          "name": "stdout",
          "text": [
            "Looking in indexes: https://pypi.org/simple, https://us-python.pkg.dev/colab-wheels/public/simple/\n",
            "Collecting open_clip_torch\n",
            "  Downloading open_clip_torch-2.0.2-py3-none-any.whl (1.4 MB)\n",
            "\u001b[K     |████████████████████████████████| 1.4 MB 5.1 MB/s \n",
            "\u001b[?25hRequirement already satisfied: torch>=1.9 in /usr/local/lib/python3.7/dist-packages (from open_clip_torch) (1.12.1+cu113)\n",
            "Requirement already satisfied: regex in /usr/local/lib/python3.7/dist-packages (from open_clip_torch) (2022.6.2)\n",
            "Collecting huggingface-hub\n",
            "  Downloading huggingface_hub-0.10.0-py3-none-any.whl (163 kB)\n",
            "\u001b[K     |████████████████████████████████| 163 kB 57.3 MB/s \n",
            "\u001b[?25hCollecting ftfy\n",
            "  Downloading ftfy-6.1.1-py3-none-any.whl (53 kB)\n",
            "\u001b[K     |████████████████████████████████| 53 kB 1.4 MB/s \n",
            "\u001b[?25hRequirement already satisfied: tqdm in /usr/local/lib/python3.7/dist-packages (from open_clip_torch) (4.64.1)\n",
            "Requirement already satisfied: torchvision in /usr/local/lib/python3.7/dist-packages (from open_clip_torch) (0.13.1+cu113)\n",
            "Requirement already satisfied: typing-extensions in /usr/local/lib/python3.7/dist-packages (from torch>=1.9->open_clip_torch) (4.1.1)\n",
            "Requirement already satisfied: wcwidth>=0.2.5 in /usr/local/lib/python3.7/dist-packages (from ftfy->open_clip_torch) (0.2.5)\n",
            "Requirement already satisfied: filelock in /usr/local/lib/python3.7/dist-packages (from huggingface-hub->open_clip_torch) (3.8.0)\n",
            "Requirement already satisfied: requests in /usr/local/lib/python3.7/dist-packages (from huggingface-hub->open_clip_torch) (2.23.0)\n",
            "Requirement already satisfied: pyyaml>=5.1 in /usr/local/lib/python3.7/dist-packages (from huggingface-hub->open_clip_torch) (6.0)\n",
            "Requirement already satisfied: importlib-metadata in /usr/local/lib/python3.7/dist-packages (from huggingface-hub->open_clip_torch) (4.12.0)\n",
            "Requirement already satisfied: packaging>=20.9 in /usr/local/lib/python3.7/dist-packages (from huggingface-hub->open_clip_torch) (21.3)\n",
            "Requirement already satisfied: pyparsing!=3.0.5,>=2.0.2 in /usr/local/lib/python3.7/dist-packages (from packaging>=20.9->huggingface-hub->open_clip_torch) (3.0.9)\n",
            "Requirement already satisfied: zipp>=0.5 in /usr/local/lib/python3.7/dist-packages (from importlib-metadata->huggingface-hub->open_clip_torch) (3.8.1)\n",
            "Requirement already satisfied: urllib3!=1.25.0,!=1.25.1,<1.26,>=1.21.1 in /usr/local/lib/python3.7/dist-packages (from requests->huggingface-hub->open_clip_torch) (1.24.3)\n",
            "Requirement already satisfied: certifi>=2017.4.17 in /usr/local/lib/python3.7/dist-packages (from requests->huggingface-hub->open_clip_torch) (2022.6.15)\n",
            "Requirement already satisfied: chardet<4,>=3.0.2 in /usr/local/lib/python3.7/dist-packages (from requests->huggingface-hub->open_clip_torch) (3.0.4)\n",
            "Requirement already satisfied: idna<3,>=2.5 in /usr/local/lib/python3.7/dist-packages (from requests->huggingface-hub->open_clip_torch) (2.10)\n",
            "Requirement already satisfied: pillow!=8.3.*,>=5.3.0 in /usr/local/lib/python3.7/dist-packages (from torchvision->open_clip_torch) (7.1.2)\n",
            "Requirement already satisfied: numpy in /usr/local/lib/python3.7/dist-packages (from torchvision->open_clip_torch) (1.21.6)\n",
            "Installing collected packages: huggingface-hub, ftfy, open-clip-torch\n",
            "Successfully installed ftfy-6.1.1 huggingface-hub-0.10.0 open-clip-torch-2.0.2\n"
          ]
        }
      ],
      "source": [
        "#@title Imports\n",
        "try : \n",
        "  import open_clip\n",
        "except ImportError:\n",
        "  !pip install open_clip_torch\n",
        "  import open_clip\n",
        "\n",
        "try:\n",
        "  import torch\n",
        "except ImportError:\n",
        "  !pip install torch>=1.9.0\n",
        "  import torch\n",
        "\n",
        "try:\n",
        "  import PIL\n",
        "  from PIL import Image\n",
        "except:\n",
        "  !pip install pillow\n",
        "  import PIL\n",
        "  from PIL import Image\n",
        "\n",
        "import pathlib"
      ]
    },
    {
      "cell_type": "code",
      "source": [
        "#@title Load wordlist file function\n",
        "def load_list(filename):\n",
        "    with open(filename, 'r', encoding='utf-8', errors='replace') as f:\n",
        "        items = [line.strip() for line in f.readlines()]\n",
        "    return items"
      ],
      "metadata": {
        "id": "FUakDGhNMtX3"
      },
      "execution_count": 3,
      "outputs": []
    },
    {
      "cell_type": "code",
      "source": [
        "#@title Interrogate Single Image Function\n",
        "def interrogate_single_image_topk(model  , \n",
        "                             preprocess,\n",
        "                             image_file = None, \n",
        "                             text_file = None ,\n",
        "                             k = 1 ,\n",
        "                          ):\n",
        "  cwd_path = pathlib.Path.cwd().parent\n",
        "  if image_file is None :\n",
        "\n",
        "    image_file = cwd_path / 'images' / 'download_blue.png'\n",
        "  \n",
        "  if text_file is None :\n",
        "    text_file = cwd_path / 'wordlists' / 'wordlist.txt'\n",
        "\n",
        "  image = preprocess(Image.open(image_file)).unsqueeze(0)\n",
        "  txt_list = load_list(text_file)\n",
        "  k = min(k, len(txt_list))\n",
        "  text = open_clip.tokenize(txt_list)\n",
        "  \n",
        "  with torch.no_grad():\n",
        "      image_features = model.encode_image(image)\n",
        "      text_features = model.encode_text(text)\n",
        "      image_features /= image_features.norm(dim=-1, keepdim=True)\n",
        "      text_features /= text_features.norm(dim=-1, keepdim=True)\n",
        "\n",
        "      similarity = (100.0 * image_features @ text_features.T).softmax(dim=-1)\n",
        "      values, indices = similarity[0].topk(k)\n",
        "      # Print the result\n",
        "      print(\"\\nTop predictions:\\n\")\n",
        "      for value, index in zip(values, indices):\n",
        "          print(f\"{txt_list[index]}: {100 * value.item():.2f}%\")\n"
      ],
      "metadata": {
        "id": "oyMgYE3QM67Q"
      },
      "execution_count": 4,
      "outputs": []
    },
    {
      "cell_type": "code",
      "source": [
        "#@title List Pretrained model\n",
        "# Choose one of these models :: model name and pretrained \n",
        "open_clip.list_pretrained()"
      ],
      "metadata": {
        "colab": {
          "base_uri": "https://localhost:8080/"
        },
        "id": "hEUqFPtoNlvc",
        "outputId": "9eba22a4-5d9d-4c8f-ce95-b0ac2399142b"
      },
      "execution_count": 5,
      "outputs": [
        {
          "output_type": "execute_result",
          "data": {
            "text/plain": [
              "[('RN50', 'openai'),\n",
              " ('RN50', 'yfcc15m'),\n",
              " ('RN50', 'cc12m'),\n",
              " ('RN50-quickgelu', 'openai'),\n",
              " ('RN50-quickgelu', 'yfcc15m'),\n",
              " ('RN50-quickgelu', 'cc12m'),\n",
              " ('RN101', 'openai'),\n",
              " ('RN101', 'yfcc15m'),\n",
              " ('RN101-quickgelu', 'openai'),\n",
              " ('RN101-quickgelu', 'yfcc15m'),\n",
              " ('RN50x4', 'openai'),\n",
              " ('RN50x16', 'openai'),\n",
              " ('RN50x64', 'openai'),\n",
              " ('ViT-B-32', 'openai'),\n",
              " ('ViT-B-32', 'laion400m_e31'),\n",
              " ('ViT-B-32', 'laion400m_e32'),\n",
              " ('ViT-B-32', 'laion2b_e16'),\n",
              " ('ViT-B-32', 'laion2b_s34b_b79k'),\n",
              " ('ViT-B-32-quickgelu', 'openai'),\n",
              " ('ViT-B-32-quickgelu', 'laion400m_e31'),\n",
              " ('ViT-B-32-quickgelu', 'laion400m_e32'),\n",
              " ('ViT-B-16', 'openai'),\n",
              " ('ViT-B-16', 'laion400m_e31'),\n",
              " ('ViT-B-16', 'laion400m_e32'),\n",
              " ('ViT-B-16-plus-240', 'laion400m_e31'),\n",
              " ('ViT-B-16-plus-240', 'laion400m_e32'),\n",
              " ('ViT-L-14', 'openai'),\n",
              " ('ViT-L-14', 'laion400m_e31'),\n",
              " ('ViT-L-14', 'laion400m_e32'),\n",
              " ('ViT-L-14', 'laion2b_s32b_b82k'),\n",
              " ('ViT-L-14-336', 'openai'),\n",
              " ('ViT-H-14', 'laion2b_s32b_b79k'),\n",
              " ('ViT-g-14', 'laion2b_s12b_b42k')]"
            ]
          },
          "metadata": {},
          "execution_count": 5
        }
      ]
    },
    {
      "cell_type": "code",
      "source": [
        "#@title Load model\n",
        "# Make sure you choosed the desired model\n",
        "model, _, preprocess = open_clip.create_model_and_transforms('ViT-B-32',pretrained='openai')"
      ],
      "metadata": {
        "colab": {
          "base_uri": "https://localhost:8080/"
        },
        "id": "PIH3pqjcNuxq",
        "outputId": "07b3dcd5-8774-4916-d670-42e80f7c9a06"
      },
      "execution_count": 6,
      "outputs": [
        {
          "output_type": "stream",
          "name": "stderr",
          "text": [
            "100%|████████████████████████████████████████| 354M/354M [00:02<00:00, 164MiB/s]\n"
          ]
        }
      ]
    },
    {
      "cell_type": "code",
      "source": [
        "#@title Run\n",
        "# run the interrogate_single_image_topk function \n",
        "# returns ==> the most matching text in the input text\n",
        "interrogate_single_image_topk(model = model , preprocess=preprocess , k = 2)"
      ],
      "metadata": {
        "colab": {
          "base_uri": "https://localhost:8080/"
        },
        "id": "laFfWhdSN09C",
        "outputId": "95a75ca1-b183-4437-b9e0-385d76fc8909"
      },
      "execution_count": 10,
      "outputs": [
        {
          "output_type": "stream",
          "name": "stdout",
          "text": [
            "\n",
            "Top predictions:\n",
            "\n",
            "pixel art: 100.00%\n",
            "photography: 0.00%\n"
          ]
        }
      ]
    },
    {
      "cell_type": "code",
      "source": [],
      "metadata": {
        "id": "k_NTWCL3N9Wh"
      },
      "execution_count": null,
      "outputs": []
    }
  ]
}